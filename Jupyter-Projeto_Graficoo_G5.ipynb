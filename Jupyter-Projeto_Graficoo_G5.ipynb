{
 "cells": [
  {
   "cell_type": "code",
   "execution_count": 57,
   "metadata": {},
   "outputs": [],
   "source": [
    "import os\n",
    "import pandas as pd\n",
    "import numpy as np\n",
    "import plotly.graph_objects as go\n",
    "# Definir o caminho da pasta em que o projeto se encontra\n",
    "folder_class_path = os.path.abspath(os.getcwd())"
   ]
  },
  {
   "cell_type": "code",
   "execution_count": 31,
   "metadata": {},
   "outputs": [],
   "source": [
    "# Função com o objetivo de receber as bases de dados csv\n",
    "def receber_bases():\n",
    "    kaggle_df = pd.read_csv(folder_class_path + '/kaggle_survey_2021_responses.csv', encoding='utf-8-sig', low_memory=False)\n",
    "    desc = kaggle_df.iloc[0]\n",
    "    kaggle_df = kaggle_df.iloc[1:]\n",
    "    return kaggle_df, desc"
   ]
  },
  {
   "cell_type": "code",
   "execution_count": 53,
   "metadata": {},
   "outputs": [],
   "source": [
    "def tratar_dados(kaggle_df):\n",
    "    df_analise = kaggle_df[['Q2', 'Q3', 'Q5', 'Q8', 'Q15']].rename(columns = { \n",
    "        'Q2': 'Genero',\n",
    "        'Q3': 'Pais',\n",
    "        'Q5': 'Cargo',\n",
    "        'Q8': 'Linguagem',\n",
    "        'Q15': 'Experiencia'\n",
    "    })\n",
    "    other_countries = np.append(df_analise.groupby('Pais').size().sort_values().iloc[:-9].index.values, 'Other')\n",
    "    other_languages = df_analise.groupby('Linguagem').size().sort_values().iloc[:-4].index.values\n",
    "    other_jobs = np.append(df_analise.groupby('Cargo').size().sort_values().iloc[:-5].index.values, 'Other')\n",
    "    df_analise = df_analise.replace({'Pais':{k:'Other Countries' for k in other_countries},\n",
    "                    'Linguagem': {k:'Other Languages' for k in other_languages},\n",
    "                    'Cargo': {k:'Other Jobs' for k in other_jobs},\n",
    "                    'Experiencia': {'I do not use machine learning methods': 'No Experience'}})\n",
    "    return df_analise"
   ]
  },
  {
   "cell_type": "code",
   "execution_count": 55,
   "metadata": {},
   "outputs": [],
   "source": [
    "\n",
    "def get_data(df, input, output):\n",
    "    data = (df\n",
    "            .rename(columns = {input:'input', output:'output'})\n",
    "            .groupby(['input', 'output'])\n",
    "            .size()\n",
    "            .to_frame('size')\n",
    "            .reset_index()\n",
    "    )\n",
    "    return data\n"
   ]
  },
  {
   "cell_type": "code",
   "execution_count": 174,
   "metadata": {},
   "outputs": [],
   "source": [
    "def sankey_plot(df, columns, color_at, color):\n",
    "    labels = np.concatenate(df.apply(lambda x: x.unique(), axis = 0).values)\n",
    "    labels = np.delete(labels, [24,30])\n",
    "    labels = {v:k for k,v in enumerate(labels)}\n",
    "    _df = df.replace(labels)\n",
    "    data = []\n",
    "\n",
    "    for i in range(len(columns) - 1):\n",
    "        data.append(get_data(_df, columns[i], columns[i + 1]))\n",
    "    data = pd.concat(data)\n",
    "    data['color'] = 'lightgray'\n",
    "\n",
    "    for c_at, c in zip(color_at, color):\n",
    "        data.loc[(data[['input', 'output']] == labels[c_at]).any(axis = 1), 'color'] = c\n",
    "\n",
    "    fig = go.Figure(data=[go.Sankey(\n",
    "        node = dict(\n",
    "            pad = 15,\n",
    "            thickness = 20,\n",
    "            line = dict(color = \"black\", width = 0.5),\n",
    "            label = np.array(list(labels.keys()))[list(labels.values())],\n",
    "            color = \"lightgray\"\n",
    "            ),\n",
    "        link = dict(\n",
    "            source = data['input'], # indices correspond to labels, eg A1, A2, A1, B1, ...\n",
    "            target = data['output'],\n",
    "            value = data['size'],\n",
    "            color = data['color'])\n",
    "    )])\n",
    "\n",
    "    fig.update_layout()\n",
    "    fig.show()"
   ]
  },
  {
   "cell_type": "code",
   "execution_count": 177,
   "metadata": {},
   "outputs": [
    {
     "data": {
      "application/vnd.plotly.v1+json": {
       "config": {
        "plotlyServerURL": "https://plot.ly"
       },
       "data": [
        {
         "link": {
          "color": [
           "blue",
           "blue",
           "blue",
           "blue",
           "blue",
           "green",
           "blue",
           "blue",
           "blue",
           "lightgray",
           "lightgray",
           "lightgray",
           "lightgray",
           "lightgray",
           "green",
           "lightgray",
           "lightgray",
           "lightgray",
           "lightgray",
           "lightgray",
           "lightgray",
           "green",
           "lightgray",
           "lightgray",
           "lightgray",
           "lightgray",
           "lightgray",
           "lightgray",
           "lightgray",
           "lightgray",
           "green",
           "lightgray",
           "lightgray",
           "lightgray",
           "lightgray",
           "lightgray",
           "lightgray",
           "lightgray",
           "green",
           "lightgray",
           "lightgray",
           "lightgray",
           "orange",
           "lightgray",
           "lightgray",
           "lightgray",
           "lightgray",
           "orange",
           "lightgray",
           "lightgray",
           "lightgray",
           "lightgray",
           "orange",
           "lightgray",
           "lightgray",
           "lightgray",
           "lightgray",
           "orange",
           "lightgray",
           "lightgray",
           "lightgray",
           "lightgray",
           "orange",
           "lightgray",
           "lightgray",
           "lightgray",
           "lightgray",
           "green",
           "green",
           "green",
           "green",
           "green",
           "orange",
           "lightgray",
           "lightgray",
           "lightgray",
           "lightgray",
           "orange",
           "lightgray",
           "lightgray",
           "lightgray",
           "lightgray",
           "orange",
           "lightgray",
           "lightgray",
           "lightgray",
           "lightgray",
           "orange",
           "orange",
           "orange",
           "orange",
           "orange",
           "lightgray",
           "lightgray",
           "lightgray",
           "lightgray",
           "lightgray",
           "lightgray",
           "lightgray",
           "lightgray",
           "lightgray",
           "lightgray",
           "lightgray",
           "lightgray",
           "lightgray",
           "lightgray",
           "lightgray",
           "lightgray",
           "lightgray",
           "lightgray",
           "lightgray",
           "lightgray",
           "lightgray",
           "lightblue",
           "lightgray",
           "lightgray",
           "lightgray",
           "lightgray",
           "lightgray",
           "lightgray",
           "red",
           "lightgray",
           "lightblue",
           "lightgray",
           "lightgray",
           "lightgray",
           "lightgray",
           "lightgray",
           "lightgray",
           "red",
           "lightgray",
           "lightblue",
           "lightgray",
           "lightgray",
           "lightgray",
           "lightgray",
           "lightgray",
           "lightgray",
           "red",
           "lightgray",
           "lightblue",
           "lightgray",
           "lightgray",
           "lightgray",
           "lightgray",
           "lightgray",
           "lightgray",
           "red",
           "lightgray",
           "lightblue",
           "lightgray",
           "lightgray",
           "lightgray",
           "lightgray",
           "lightgray",
           "lightgray",
           "red"
          ],
          "source": [
           0,
           0,
           0,
           0,
           0,
           0,
           0,
           0,
           0,
           1,
           1,
           1,
           1,
           1,
           1,
           1,
           1,
           1,
           2,
           2,
           2,
           2,
           2,
           2,
           2,
           3,
           3,
           3,
           3,
           3,
           3,
           3,
           3,
           3,
           4,
           4,
           4,
           4,
           4,
           4,
           4,
           4,
           5,
           5,
           5,
           5,
           5,
           6,
           6,
           6,
           6,
           6,
           7,
           7,
           7,
           7,
           7,
           8,
           8,
           8,
           8,
           8,
           9,
           9,
           9,
           9,
           9,
           10,
           10,
           10,
           10,
           10,
           11,
           11,
           11,
           11,
           11,
           12,
           12,
           12,
           12,
           12,
           13,
           13,
           13,
           13,
           13,
           19,
           19,
           19,
           19,
           19,
           20,
           20,
           20,
           20,
           20,
           21,
           21,
           21,
           21,
           21,
           22,
           22,
           22,
           22,
           22,
           23,
           23,
           23,
           23,
           23,
           14,
           14,
           14,
           14,
           14,
           14,
           14,
           14,
           14,
           15,
           15,
           15,
           15,
           15,
           15,
           15,
           15,
           15,
           16,
           16,
           16,
           16,
           16,
           16,
           16,
           16,
           16,
           17,
           17,
           17,
           17,
           17,
           17,
           17,
           17,
           17,
           18,
           18,
           18,
           18,
           18,
           18,
           18,
           18,
           18
          ],
          "target": [
           5,
           6,
           7,
           8,
           9,
           10,
           11,
           12,
           13,
           5,
           6,
           7,
           8,
           9,
           10,
           11,
           12,
           13,
           5,
           6,
           9,
           10,
           11,
           12,
           13,
           5,
           6,
           7,
           8,
           9,
           10,
           11,
           12,
           13,
           5,
           6,
           7,
           9,
           10,
           11,
           12,
           13,
           19,
           20,
           21,
           22,
           23,
           19,
           20,
           21,
           22,
           23,
           19,
           20,
           21,
           22,
           23,
           19,
           20,
           21,
           22,
           23,
           19,
           20,
           21,
           22,
           23,
           19,
           20,
           21,
           22,
           23,
           19,
           20,
           21,
           22,
           23,
           19,
           20,
           21,
           22,
           23,
           19,
           20,
           21,
           22,
           23,
           14,
           15,
           16,
           17,
           18,
           14,
           15,
           16,
           17,
           18,
           14,
           15,
           16,
           17,
           18,
           14,
           15,
           16,
           17,
           18,
           14,
           15,
           16,
           17,
           18,
           24,
           25,
           26,
           27,
           28,
           29,
           30,
           31,
           32,
           24,
           25,
           26,
           27,
           28,
           29,
           30,
           31,
           32,
           24,
           25,
           26,
           27,
           28,
           29,
           30,
           31,
           32,
           24,
           25,
           26,
           27,
           28,
           29,
           30,
           31,
           32,
           24,
           25,
           26,
           27,
           28,
           29,
           30,
           31,
           32
          ],
          "value": [
           5681,
           9143,
           630,
           594,
           836,
           664,
           672,
           1949,
           429,
           1656,
           2049,
           104,
           107,
           68,
           81,
           106,
           606,
           113,
           5,
           36,
           5,
           2,
           2,
           34,
           4,
           84,
           162,
           5,
           1,
           11,
           3,
           31,
           55,
           3,
           8,
           19,
           3,
           1,
           1,
           3,
           6,
           1,
           6019,
           303,
           288,
           360,
           181,
           8700,
           586,
           732,
           738,
           161,
           613,
           46,
           15,
           36,
           12,
           536,
           51,
           33,
           27,
           4,
           776,
           27,
           33,
           50,
           15,
           592,
           50,
           60,
           16,
           12,
           654,
           21,
           19,
           79,
           34,
           1897,
           219,
           227,
           164,
           20,
           426,
           35,
           38,
           34,
           1,
           8062,
           2060,
           5585,
           2919,
           1587,
           544,
           100,
           190,
           243,
           261,
           636,
           61,
           329,
           220,
           199,
           664,
           166,
           465,
           111,
           98,
           144,
           45,
           191,
           48,
           12,
           533,
           3374,
           1556,
           211,
           1047,
           1866,
           466,
           550,
           132,
           62,
           913,
           434,
           15,
           253,
           458,
           75,
           106,
           9,
           17,
           3231,
           1315,
           2,
           291,
           1145,
           35,
           106,
           3,
           384,
           835,
           156,
           117,
           513,
           748,
           314,
           326,
           62,
           37,
           810,
           428,
           17,
           201,
           458,
           55,
           83,
           5
          ]
         },
         "node": {
          "color": "lightgray",
          "label": [
           "Man",
           "Woman",
           "Nonbinary",
           "Prefer not to say",
           "Prefer to self-describe",
           "India",
           "Other Countries",
           "Russia",
           "Nigeria",
           "Japan",
           "Brazil",
           "China",
           "United States of America",
           "United Kingdom of Great Britain and Northern Ireland",
           "Other Jobs",
           "Software Engineer",
           "Student",
           "Data Scientist",
           "Data Analyst",
           "Python",
           "SQL",
           "R",
           "Other Languages",
           "C",
           "5-10 years",
           "Under 1 year",
           "No Experience",
           "10-20 years",
           "2-3 years",
           "1-2 years",
           "4-5 years",
           "3-4 years",
           "20 or more years"
          ],
          "line": {
           "color": "black",
           "width": 0.5
          },
          "pad": 15,
          "thickness": 20
         },
         "type": "sankey"
        }
       ],
       "layout": {
        "template": {
         "data": {
          "bar": [
           {
            "error_x": {
             "color": "#2a3f5f"
            },
            "error_y": {
             "color": "#2a3f5f"
            },
            "marker": {
             "line": {
              "color": "#E5ECF6",
              "width": 0.5
             },
             "pattern": {
              "fillmode": "overlay",
              "size": 10,
              "solidity": 0.2
             }
            },
            "type": "bar"
           }
          ],
          "barpolar": [
           {
            "marker": {
             "line": {
              "color": "#E5ECF6",
              "width": 0.5
             },
             "pattern": {
              "fillmode": "overlay",
              "size": 10,
              "solidity": 0.2
             }
            },
            "type": "barpolar"
           }
          ],
          "carpet": [
           {
            "aaxis": {
             "endlinecolor": "#2a3f5f",
             "gridcolor": "white",
             "linecolor": "white",
             "minorgridcolor": "white",
             "startlinecolor": "#2a3f5f"
            },
            "baxis": {
             "endlinecolor": "#2a3f5f",
             "gridcolor": "white",
             "linecolor": "white",
             "minorgridcolor": "white",
             "startlinecolor": "#2a3f5f"
            },
            "type": "carpet"
           }
          ],
          "choropleth": [
           {
            "colorbar": {
             "outlinewidth": 0,
             "ticks": ""
            },
            "type": "choropleth"
           }
          ],
          "contour": [
           {
            "colorbar": {
             "outlinewidth": 0,
             "ticks": ""
            },
            "colorscale": [
             [
              0,
              "#0d0887"
             ],
             [
              0.1111111111111111,
              "#46039f"
             ],
             [
              0.2222222222222222,
              "#7201a8"
             ],
             [
              0.3333333333333333,
              "#9c179e"
             ],
             [
              0.4444444444444444,
              "#bd3786"
             ],
             [
              0.5555555555555556,
              "#d8576b"
             ],
             [
              0.6666666666666666,
              "#ed7953"
             ],
             [
              0.7777777777777778,
              "#fb9f3a"
             ],
             [
              0.8888888888888888,
              "#fdca26"
             ],
             [
              1,
              "#f0f921"
             ]
            ],
            "type": "contour"
           }
          ],
          "contourcarpet": [
           {
            "colorbar": {
             "outlinewidth": 0,
             "ticks": ""
            },
            "type": "contourcarpet"
           }
          ],
          "heatmap": [
           {
            "colorbar": {
             "outlinewidth": 0,
             "ticks": ""
            },
            "colorscale": [
             [
              0,
              "#0d0887"
             ],
             [
              0.1111111111111111,
              "#46039f"
             ],
             [
              0.2222222222222222,
              "#7201a8"
             ],
             [
              0.3333333333333333,
              "#9c179e"
             ],
             [
              0.4444444444444444,
              "#bd3786"
             ],
             [
              0.5555555555555556,
              "#d8576b"
             ],
             [
              0.6666666666666666,
              "#ed7953"
             ],
             [
              0.7777777777777778,
              "#fb9f3a"
             ],
             [
              0.8888888888888888,
              "#fdca26"
             ],
             [
              1,
              "#f0f921"
             ]
            ],
            "type": "heatmap"
           }
          ],
          "heatmapgl": [
           {
            "colorbar": {
             "outlinewidth": 0,
             "ticks": ""
            },
            "colorscale": [
             [
              0,
              "#0d0887"
             ],
             [
              0.1111111111111111,
              "#46039f"
             ],
             [
              0.2222222222222222,
              "#7201a8"
             ],
             [
              0.3333333333333333,
              "#9c179e"
             ],
             [
              0.4444444444444444,
              "#bd3786"
             ],
             [
              0.5555555555555556,
              "#d8576b"
             ],
             [
              0.6666666666666666,
              "#ed7953"
             ],
             [
              0.7777777777777778,
              "#fb9f3a"
             ],
             [
              0.8888888888888888,
              "#fdca26"
             ],
             [
              1,
              "#f0f921"
             ]
            ],
            "type": "heatmapgl"
           }
          ],
          "histogram": [
           {
            "marker": {
             "pattern": {
              "fillmode": "overlay",
              "size": 10,
              "solidity": 0.2
             }
            },
            "type": "histogram"
           }
          ],
          "histogram2d": [
           {
            "colorbar": {
             "outlinewidth": 0,
             "ticks": ""
            },
            "colorscale": [
             [
              0,
              "#0d0887"
             ],
             [
              0.1111111111111111,
              "#46039f"
             ],
             [
              0.2222222222222222,
              "#7201a8"
             ],
             [
              0.3333333333333333,
              "#9c179e"
             ],
             [
              0.4444444444444444,
              "#bd3786"
             ],
             [
              0.5555555555555556,
              "#d8576b"
             ],
             [
              0.6666666666666666,
              "#ed7953"
             ],
             [
              0.7777777777777778,
              "#fb9f3a"
             ],
             [
              0.8888888888888888,
              "#fdca26"
             ],
             [
              1,
              "#f0f921"
             ]
            ],
            "type": "histogram2d"
           }
          ],
          "histogram2dcontour": [
           {
            "colorbar": {
             "outlinewidth": 0,
             "ticks": ""
            },
            "colorscale": [
             [
              0,
              "#0d0887"
             ],
             [
              0.1111111111111111,
              "#46039f"
             ],
             [
              0.2222222222222222,
              "#7201a8"
             ],
             [
              0.3333333333333333,
              "#9c179e"
             ],
             [
              0.4444444444444444,
              "#bd3786"
             ],
             [
              0.5555555555555556,
              "#d8576b"
             ],
             [
              0.6666666666666666,
              "#ed7953"
             ],
             [
              0.7777777777777778,
              "#fb9f3a"
             ],
             [
              0.8888888888888888,
              "#fdca26"
             ],
             [
              1,
              "#f0f921"
             ]
            ],
            "type": "histogram2dcontour"
           }
          ],
          "mesh3d": [
           {
            "colorbar": {
             "outlinewidth": 0,
             "ticks": ""
            },
            "type": "mesh3d"
           }
          ],
          "parcoords": [
           {
            "line": {
             "colorbar": {
              "outlinewidth": 0,
              "ticks": ""
             }
            },
            "type": "parcoords"
           }
          ],
          "pie": [
           {
            "automargin": true,
            "type": "pie"
           }
          ],
          "scatter": [
           {
            "marker": {
             "colorbar": {
              "outlinewidth": 0,
              "ticks": ""
             }
            },
            "type": "scatter"
           }
          ],
          "scatter3d": [
           {
            "line": {
             "colorbar": {
              "outlinewidth": 0,
              "ticks": ""
             }
            },
            "marker": {
             "colorbar": {
              "outlinewidth": 0,
              "ticks": ""
             }
            },
            "type": "scatter3d"
           }
          ],
          "scattercarpet": [
           {
            "marker": {
             "colorbar": {
              "outlinewidth": 0,
              "ticks": ""
             }
            },
            "type": "scattercarpet"
           }
          ],
          "scattergeo": [
           {
            "marker": {
             "colorbar": {
              "outlinewidth": 0,
              "ticks": ""
             }
            },
            "type": "scattergeo"
           }
          ],
          "scattergl": [
           {
            "marker": {
             "colorbar": {
              "outlinewidth": 0,
              "ticks": ""
             }
            },
            "type": "scattergl"
           }
          ],
          "scattermapbox": [
           {
            "marker": {
             "colorbar": {
              "outlinewidth": 0,
              "ticks": ""
             }
            },
            "type": "scattermapbox"
           }
          ],
          "scatterpolar": [
           {
            "marker": {
             "colorbar": {
              "outlinewidth": 0,
              "ticks": ""
             }
            },
            "type": "scatterpolar"
           }
          ],
          "scatterpolargl": [
           {
            "marker": {
             "colorbar": {
              "outlinewidth": 0,
              "ticks": ""
             }
            },
            "type": "scatterpolargl"
           }
          ],
          "scatterternary": [
           {
            "marker": {
             "colorbar": {
              "outlinewidth": 0,
              "ticks": ""
             }
            },
            "type": "scatterternary"
           }
          ],
          "surface": [
           {
            "colorbar": {
             "outlinewidth": 0,
             "ticks": ""
            },
            "colorscale": [
             [
              0,
              "#0d0887"
             ],
             [
              0.1111111111111111,
              "#46039f"
             ],
             [
              0.2222222222222222,
              "#7201a8"
             ],
             [
              0.3333333333333333,
              "#9c179e"
             ],
             [
              0.4444444444444444,
              "#bd3786"
             ],
             [
              0.5555555555555556,
              "#d8576b"
             ],
             [
              0.6666666666666666,
              "#ed7953"
             ],
             [
              0.7777777777777778,
              "#fb9f3a"
             ],
             [
              0.8888888888888888,
              "#fdca26"
             ],
             [
              1,
              "#f0f921"
             ]
            ],
            "type": "surface"
           }
          ],
          "table": [
           {
            "cells": {
             "fill": {
              "color": "#EBF0F8"
             },
             "line": {
              "color": "white"
             }
            },
            "header": {
             "fill": {
              "color": "#C8D4E3"
             },
             "line": {
              "color": "white"
             }
            },
            "type": "table"
           }
          ]
         },
         "layout": {
          "annotationdefaults": {
           "arrowcolor": "#2a3f5f",
           "arrowhead": 0,
           "arrowwidth": 1
          },
          "autotypenumbers": "strict",
          "coloraxis": {
           "colorbar": {
            "outlinewidth": 0,
            "ticks": ""
           }
          },
          "colorscale": {
           "diverging": [
            [
             0,
             "#8e0152"
            ],
            [
             0.1,
             "#c51b7d"
            ],
            [
             0.2,
             "#de77ae"
            ],
            [
             0.3,
             "#f1b6da"
            ],
            [
             0.4,
             "#fde0ef"
            ],
            [
             0.5,
             "#f7f7f7"
            ],
            [
             0.6,
             "#e6f5d0"
            ],
            [
             0.7,
             "#b8e186"
            ],
            [
             0.8,
             "#7fbc41"
            ],
            [
             0.9,
             "#4d9221"
            ],
            [
             1,
             "#276419"
            ]
           ],
           "sequential": [
            [
             0,
             "#0d0887"
            ],
            [
             0.1111111111111111,
             "#46039f"
            ],
            [
             0.2222222222222222,
             "#7201a8"
            ],
            [
             0.3333333333333333,
             "#9c179e"
            ],
            [
             0.4444444444444444,
             "#bd3786"
            ],
            [
             0.5555555555555556,
             "#d8576b"
            ],
            [
             0.6666666666666666,
             "#ed7953"
            ],
            [
             0.7777777777777778,
             "#fb9f3a"
            ],
            [
             0.8888888888888888,
             "#fdca26"
            ],
            [
             1,
             "#f0f921"
            ]
           ],
           "sequentialminus": [
            [
             0,
             "#0d0887"
            ],
            [
             0.1111111111111111,
             "#46039f"
            ],
            [
             0.2222222222222222,
             "#7201a8"
            ],
            [
             0.3333333333333333,
             "#9c179e"
            ],
            [
             0.4444444444444444,
             "#bd3786"
            ],
            [
             0.5555555555555556,
             "#d8576b"
            ],
            [
             0.6666666666666666,
             "#ed7953"
            ],
            [
             0.7777777777777778,
             "#fb9f3a"
            ],
            [
             0.8888888888888888,
             "#fdca26"
            ],
            [
             1,
             "#f0f921"
            ]
           ]
          },
          "colorway": [
           "#636efa",
           "#EF553B",
           "#00cc96",
           "#ab63fa",
           "#FFA15A",
           "#19d3f3",
           "#FF6692",
           "#B6E880",
           "#FF97FF",
           "#FECB52"
          ],
          "font": {
           "color": "#2a3f5f"
          },
          "geo": {
           "bgcolor": "white",
           "lakecolor": "white",
           "landcolor": "#E5ECF6",
           "showlakes": true,
           "showland": true,
           "subunitcolor": "white"
          },
          "hoverlabel": {
           "align": "left"
          },
          "hovermode": "closest",
          "mapbox": {
           "style": "light"
          },
          "paper_bgcolor": "white",
          "plot_bgcolor": "#E5ECF6",
          "polar": {
           "angularaxis": {
            "gridcolor": "white",
            "linecolor": "white",
            "ticks": ""
           },
           "bgcolor": "#E5ECF6",
           "radialaxis": {
            "gridcolor": "white",
            "linecolor": "white",
            "ticks": ""
           }
          },
          "scene": {
           "xaxis": {
            "backgroundcolor": "#E5ECF6",
            "gridcolor": "white",
            "gridwidth": 2,
            "linecolor": "white",
            "showbackground": true,
            "ticks": "",
            "zerolinecolor": "white"
           },
           "yaxis": {
            "backgroundcolor": "#E5ECF6",
            "gridcolor": "white",
            "gridwidth": 2,
            "linecolor": "white",
            "showbackground": true,
            "ticks": "",
            "zerolinecolor": "white"
           },
           "zaxis": {
            "backgroundcolor": "#E5ECF6",
            "gridcolor": "white",
            "gridwidth": 2,
            "linecolor": "white",
            "showbackground": true,
            "ticks": "",
            "zerolinecolor": "white"
           }
          },
          "shapedefaults": {
           "line": {
            "color": "#2a3f5f"
           }
          },
          "ternary": {
           "aaxis": {
            "gridcolor": "white",
            "linecolor": "white",
            "ticks": ""
           },
           "baxis": {
            "gridcolor": "white",
            "linecolor": "white",
            "ticks": ""
           },
           "bgcolor": "#E5ECF6",
           "caxis": {
            "gridcolor": "white",
            "linecolor": "white",
            "ticks": ""
           }
          },
          "title": {
           "x": 0.05
          },
          "xaxis": {
           "automargin": true,
           "gridcolor": "white",
           "linecolor": "white",
           "ticks": "",
           "title": {
            "standoff": 15
           },
           "zerolinecolor": "white",
           "zerolinewidth": 2
          },
          "yaxis": {
           "automargin": true,
           "gridcolor": "white",
           "linecolor": "white",
           "ticks": "",
           "title": {
            "standoff": 15
           },
           "zerolinecolor": "white",
           "zerolinewidth": 2
          }
         }
        }
       }
      }
     },
     "metadata": {},
     "output_type": "display_data"
    }
   ],
   "source": [
    "kaggle_df, descricao_colunas = receber_bases()\n",
    "df_analise = tratar_dados(kaggle_df)\n",
    "sankey_plot(df_analise, \n",
    "        columns = ['Genero', 'Pais', 'Linguagem', 'Cargo', 'Experiencia'], \n",
    "        color_at = ['Python', 'Man', 'Brazil', 'Under 1 year', '20 or more years'], \n",
    "        color = ['orange', 'blue', 'green', 'lightblue', 'red'])"
   ]
  }
 ],
 "metadata": {
  "interpreter": {
   "hash": "7d3337ba5168f4c0be55a76bf4408a32171a059c23933e013fbbd8f36ebd1d40"
  },
  "kernelspec": {
   "display_name": "Python 3.9.8 64-bit",
   "language": "python",
   "name": "python3"
  },
  "language_info": {
   "codemirror_mode": {
    "name": "ipython",
    "version": 3
   },
   "file_extension": ".py",
   "mimetype": "text/x-python",
   "name": "python",
   "nbconvert_exporter": "python",
   "pygments_lexer": "ipython3",
   "version": "3.9.8"
  },
  "orig_nbformat": 4
 },
 "nbformat": 4,
 "nbformat_minor": 2
}
